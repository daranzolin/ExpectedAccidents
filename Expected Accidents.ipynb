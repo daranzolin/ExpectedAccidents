{
 "cells": [
  {
   "cell_type": "code",
   "execution_count": 56,
   "metadata": {},
   "outputs": [],
   "source": [
    "import arcpy\n",
    "import os\n",
    "from arcpy import analysis as AN\n",
    "from arcpy import management as DM\n",
    "from arcpy.sa import *\n",
    "from collections import Counter\n",
    "env = arcpy.env\n",
    "env.overwriteOutput = True\n",
    "env.workspace = os.getcwd() + \"\\\\\" \"ExpectedAccidents.gdb\""
   ]
  },
  {
   "cell_type": "code",
   "execution_count": 57,
   "metadata": {},
   "outputs": [],
   "source": [
    "def unique_values(table, field):\n",
    "    with arcpy.da.SearchCursor(table, [field]) as cursor:\n",
    "        return sorted({row[0] for row in cursor})\n",
    "    \n",
    "def get_counts(in_features, field):\n",
    "    return Counter([row[0] for row in arcpy.da.SearchCursor(in_features, field)])\n",
    "\n",
    "def fct_lump(in_features, field, n):\n",
    "    counts = get_counts(in_features, field)\n",
    "    keep = [x[0] for x in counts.most_common(n)]\n",
    "    with arcpy.da.UpdateCursor(in_features, [field]) as cursor:\n",
    "        for row in cursor:\n",
    "            if row[0] not in keep:\n",
    "                row[0] = \"Other\"\n",
    "            cursor.updateRow(row)\n",
    "    del row, cursor \n",
    "    \n",
    "def SelectAggregateWrite(selectionFeature, polygonFeature, sel, fieldName, outPolygon):\n",
    "    try:\n",
    "        selLayer = DM.SelectLayerByAttribute(selectionFeature, \"NEW_SELECTION\", sel)\n",
    "        nRecords = DM.GetCount(selLayer)\n",
    "    except arcpy.ExecuteError as e:\n",
    "        print(e)\n",
    "    print(f\"{nRecords[0]} selected.\")\n",
    "    tmpLyr = \"tmp\"\n",
    "    DM.CopyFeatures(selLayer, tmpLyr)\n",
    "    # tmpLyr = 'in_memory\\\\tmp.lyr'\n",
    "    # DM.MakeFeatureLayer(selLayer, tmpLyr) \n",
    "    DM.SelectLayerByAttribute(selectionFeature, \"CLEAR_SELECTION\")\n",
    "    AN.SummarizeWithin(polygonFeature, tmpLyr, outPolygon)\n",
    "    DM.AlterField(outPolygon, 'Point_Count', fieldName, fieldName)\n",
    "    print(f\"{outPolygon} created.\")\n",
    "    DM.Delete(tmpLyr)"
   ]
  },
  {
   "cell_type": "code",
   "execution_count": 158,
   "metadata": {
    "scrolled": true
   },
   "outputs": [
    {
     "name": "stdout",
     "output_type": "stream",
     "text": [
      "Feature classes: ['transbase_collisions_XY', 'SFIntersections_Voronoi_Collisions', 'SFIntersections_Voronoi_Collisions_Join', 'SFIntersections_Voronoi_Clipped', 'broadsides_collisions', 'headons_collisions', 'merged', 'broadsides', 'headons', 'rearends', 'darkness', 'wetness', 'proceeding_straight', 'making_left_turn', 'unsafe_speed', 'unsafe_turn', 'collisions', 'pcf_viol_c_Unsafe_turn_or_lane_change', 'pcf_viol_c_Other', 'pcf_viol_c_Red_signal', 'pcf_viol_c_Unsafe_speed', 'pcf_viol_c_Unsafe_turn_or_lane', 'pcf_viol_c_Violation_of_right_', 'type_of_co_Broadside', 'type_of_co_Head_On', 'type_of_co_Hit_Object', 'type_of_co_Other', 'type_of_co_Rear_End', 'type_of_co_Sideswipe', 'lighting_Dark___Street_Lights', 'lighting_Daylight', 'lighting_Dusk___Dawn', 'lighting_Other', 'road_surfa_Dry', 'road_surfa_Other', 'road_surfa_Wet', 'party1_mov_Changing_Lanes', 'party1_mov_Making_Left_Turn', 'party1_mov_Making_Right_Turn', 'party1_mov_Making_U_Turn', 'party1_mov_Other', 'party1_mov_Proceeding_Straight']\n",
      "Tables: []\n",
      "Rasters: ['Idw_Intersec1', 'ebk_raster']\n"
     ]
    }
   ],
   "source": [
    "print(f\"Feature classes: {arcpy.ListFeatureClasses()}\")\n",
    "print(f\"Tables: {arcpy.ListTables()}\")\n",
    "print(f\"Rasters: {arcpy.ListRasters()}\")"
   ]
  },
  {
   "cell_type": "markdown",
   "metadata": {},
   "source": [
    "# Isolate San Francisco polygon"
   ]
  },
  {
   "cell_type": "code",
   "execution_count": 58,
   "metadata": {},
   "outputs": [],
   "source": [
    "albers3310 = arcpy.SpatialReference(3310)\n",
    "DM.Project('BayAreaCounties.shp', 'BayAreaCounties3310.shp', albers3310)\n",
    "sf_county = DM.SelectLayerByAttribute('BayAreaCounties3310.shp', \"NEW_SELECTION\", '\"county\" = \\'San Francisco\\'')\n",
    "DM.CopyFeatures(sf_county, \"sf_county.shp\")\n",
    "DM.MultipartToSinglepart(\"sf_county.shp\", \"sf_county_polygons.shp\")\n",
    "\n",
    "arcpy.AddField_management(\"sf_county_polygons.shp\", \"Shape_area\", \"DOUBLE\")\n",
    "with arcpy.da.UpdateCursor(\"sf_county_polygons.shp\", [\"SHAPE@AREA\",\"Shape_area\"]) as cursor:\n",
    "    for row in cursor:\n",
    "        row[1] = row[0]\n",
    "        cursor.updateRow(row)\n",
    "del row, cursor \n",
    "\n",
    "areas = []\n",
    "with arcpy.da.SearchCursor(\"sf_county_polygons.shp\", [\"Shape_area\"]) as cursor:\n",
    "    for row in cursor:\n",
    "        areas.append(row[0])\n",
    "del row, cursor \n",
    "sql = f'\"Shape_area\" = {max(areas)}'\n",
    "sf_city = DM.SelectLayerByAttribute(\"sf_county_polygons.shp\", \"NEW_SELECTION\", sql)\n",
    "DM.CopyFeatures(sf_city, \"sf_city_boundary.shp\")\n",
    "env.extent = arcpy.Describe(\"sf_city_boundary.shp\").extent"
   ]
  },
  {
   "cell_type": "markdown",
   "metadata": {},
   "source": [
    "# Convert collisions to Points, Project to 3310"
   ]
  },
  {
   "cell_type": "code",
   "execution_count": 59,
   "metadata": {},
   "outputs": [
    {
     "data": {
      "text/html": [
       "<h2>Output</h2>C:\\Users\\918831919\\Documents\\ArcGIS\\Projects\\ExpectedAccidents\\collisions3310.shp<h2>Messages</h2>Start Time: Sunday, May 15, 2022 2:00:24 PM<br/>Succeeded at Sunday, May 15, 2022 2:00:29 PM (Elapsed Time: 5.67 seconds)<br/><style>.rendered_html td, .rendered_html th {text-align: left;}.rendered_html tbody {border: 1px solid black;}</style>"
      ],
      "text/plain": [
       "<Result 'C:\\\\Users\\\\918831919\\\\Documents\\\\ArcGIS\\\\Projects\\\\ExpectedAccidents\\\\collisions3310.shp'>"
      ]
     },
     "execution_count": 59,
     "metadata": {},
     "output_type": "execute_result"
    }
   ],
   "source": [
    "DM.XYTableToPoint(\"transbase_collisions.csv\", \"collisions\", \"longitude\", \"latitude\")\n",
    "DM.Project(\"collisions\", \"collisions3310.shp\", albers3310)"
   ]
  },
  {
   "cell_type": "markdown",
   "metadata": {},
   "source": [
    "# Create Voronoi Tesselation around Intersections"
   ]
  },
  {
   "cell_type": "code",
   "execution_count": 60,
   "metadata": {},
   "outputs": [
    {
     "data": {
      "text/html": [
       "<h2>Output</h2>C:\\Users\\918831919\\Documents\\ArcGIS\\Projects\\ExpectedAccidents\\SFIntersections_Voronoi_Clipped.shp<h2>Messages</h2>Start Time: Sunday, May 15, 2022 2:01:23 PM<br/>Reading Features...<br/>Assembling Features...<br/>Cracking Features...<br/>Succeeded at Sunday, May 15, 2022 2:01:26 PM (Elapsed Time: 2.95 seconds)<br/><style>.rendered_html td, .rendered_html th {text-align: left;}.rendered_html tbody {border: 1px solid black;}</style>"
      ],
      "text/plain": [
       "<Result 'C:\\\\Users\\\\918831919\\\\Documents\\\\ArcGIS\\\\Projects\\\\ExpectedAccidents\\\\SFIntersections_Voronoi_Clipped.shp'>"
      ]
     },
     "execution_count": 60,
     "metadata": {},
     "output_type": "execute_result"
    }
   ],
   "source": [
    "# DM.UnsplitLine(\"SFSpeedLimits\", \"streets_unsplit\", [\"from_st\", \"to_st\"])\n",
    "# AN.Intersect(\"streets_unsplit\", \"intersections\", output_type = \"POINT\")\n",
    "\n",
    "DM.Project(\"SFIntersections.shp\", \"SFIntersections3310.shp\", albers3310)\n",
    "AN.CreateThiessenPolygons(\"SFIntersections3310\", \"SFIntersections_Voronoi.shp\", \"ALL\")\n",
    "AN.Clip(\"SFIntersections_Voronoi.shp\", \"sf_city_boundary.shp\", \"SFIntersections_Voronoi_Clipped.shp\")"
   ]
  },
  {
   "cell_type": "markdown",
   "metadata": {},
   "source": [
    "# Aggregate Collisions within Voronoi Polygons"
   ]
  },
  {
   "cell_type": "code",
   "execution_count": 61,
   "metadata": {},
   "outputs": [
    {
     "data": {
      "text/html": [
       "<h2>Output</h2><table><tr><th>id</th><th>value</th></tr><tr><td>0</td><td>C:\\Users\\918831919\\Documents\\ArcGIS\\Projects\\ExpectedAccidents\\ExpectedAccidents.gdb\\SFIntersections_Voronoi_Collisions</td></tr><tr><td>1</td><td></td></tr></table><h2>Messages</h2>Start Time: Sunday, May 15, 2022 2:01:44 PM<br/>Succeeded at Sunday, May 15, 2022 2:01:49 PM (Elapsed Time: 5.38 seconds)<br/><style>.rendered_html td, .rendered_html th {text-align: left;}.rendered_html tbody {border: 1px solid black;}</style>"
      ],
      "text/plain": [
       "<Result 'C:\\\\Users\\\\918831919\\\\Documents\\\\ArcGIS\\\\Projects\\\\ExpectedAccidents\\\\ExpectedAccidents.gdb\\\\SFIntersections_Voronoi_Collisions'>"
      ]
     },
     "execution_count": 61,
     "metadata": {},
     "output_type": "execute_result"
    }
   ],
   "source": [
    "AN.SummarizeWithin(\"SFIntersections_Voronoi_Clipped.shp\", \"collisions.shp\", \"SFIntersections_Voronoi_Collisions\")\n",
    "DM.AlterField(\"SFIntersections_Voronoi_Collisions\", \"Point_Count\", \"Total_Collisions\", \"Total_Collisions\")\n",
    "DM.FeatureToPoint(\"SFIntersections_Voronoi_Collisions\", \"Intersection_Points_With_Counts.shp\", \"CENTROID\")\n",
    "AN.SummarizeWithin(\"SFIntersections_Voronoi_Clipped.shp\", \"collisions.shp\", \"SFIntersections_Voronoi_Collisions\")"
   ]
  },
  {
   "cell_type": "markdown",
   "metadata": {},
   "source": [
    "# Select, Aggregate, and Write Various Collision Types"
   ]
  },
  {
   "cell_type": "code",
   "execution_count": 62,
   "metadata": {},
   "outputs": [],
   "source": [
    "# Old approach doesn't account for mutually exclusive events\n",
    "# args_list = [\n",
    "#    ['n_broadsides', '\"type_of_co\" = \\'Broadside\\'', 'broadsides'],\n",
    "#    ['n_headons', '\"type_of_co\" = \\'Head-On\\'', 'headons'],\n",
    "#    ['n_readends', '\"type_of_co\" = \\'Rear End\\'', 'rearends'],\n",
    "#    ['n_dark', '\"lighting\" = \\'Dark - Street Lights\\'', 'darkness'],\n",
    "#    ['n_wet', '\"road_surfa\" = \\'Wet\\'', 'wetness'],\n",
    "#    ['n_proceeding_straight', '\"party1_mov\" = \\'Proceeding Straight\\'', 'proceeding_straight'],\n",
    "#    ['n_making_left_turn', '\"party1_mov\" = \\'Making Left Turn\\'', 'making_left_turn'],\n",
    "#    ['n_unsafe_speed', '\"pcf_viol_c\" = \\'Unsafe speed for prevailing conditions\\'', 'unsafe_speed'],\n",
    "#    ['n_unsafe_turn_or_lane_change', '\"pcf_viol_c\" = \\'Unsafe turn or lane change prohibited\\'', 'unsafe_turn']\n",
    "# ]"
   ]
  },
  {
   "cell_type": "markdown",
   "metadata": {},
   "source": [
    "# Lump Extra Levels into 'Other'"
   ]
  },
  {
   "cell_type": "code",
   "execution_count": 63,
   "metadata": {},
   "outputs": [],
   "source": [
    "collisions = 'collisions3310.shp'\n",
    "intersections = 'SFIntersections_Voronoi_Clipped.shp'"
   ]
  },
  {
   "cell_type": "code",
   "execution_count": 64,
   "metadata": {},
   "outputs": [],
   "source": [
    "fct_lump(collisions, 'pcf_viol_c', 5)\n",
    "fct_lump(collisions, 'type_of_co', 5)\n",
    "fct_lump(collisions, 'lighting', 3)\n",
    "fct_lump(collisions, 'road_surfa', 2)\n",
    "fct_lump(collisions, 'party1_mov', 5)"
   ]
  },
  {
   "cell_type": "markdown",
   "metadata": {},
   "source": [
    "# Recode Values"
   ]
  },
  {
   "cell_type": "code",
   "execution_count": 65,
   "metadata": {},
   "outputs": [],
   "source": [
    "with arcpy.da.UpdateCursor(collisions, ['pcf_viol_c']) as cursor:\n",
    "    for row in cursor:\n",
    "        if row[0] == 'Red signal - driver or bicyclist responsibilities':\n",
    "            row[0] = 'Red signal'\n",
    "        if row[0] == 'Unsafe speed for prevailing conditions':\n",
    "            row[0] = 'Unsafe speed'\n",
    "        if row[0] == 'Unsafe turn or lane change prohibited':\n",
    "            row[0] = 'Unsafe turn or lane change'\n",
    "        if row[0] == 'Violation of right-of-way - left turn':\n",
    "            row[0] = 'Violation of right of way left turn'\n",
    "        cursor.updateRow(row)\n",
    "del row, cursor"
   ]
  },
  {
   "cell_type": "code",
   "execution_count": 66,
   "metadata": {},
   "outputs": [],
   "source": [
    "field_vals_list = [\n",
    "    ['pcf_viol_c', unique_values(collisions, 'pcf_viol_c')],\n",
    "    ['type_of_co', unique_values(collisions, 'type_of_co')],\n",
    "    ['lighting', unique_values(collisions, 'lighting')],\n",
    "    ['road_surfa', unique_values(collisions, 'road_surfa')],\n",
    "    ['party1_mov', unique_values(collisions, 'party1_mov')]    \n",
    "]"
   ]
  },
  {
   "cell_type": "code",
   "execution_count": 67,
   "metadata": {},
   "outputs": [
    {
     "data": {
      "text/plain": [
       "[['pcf_viol_c', ['Following too closely prohibited', 'Other', 'Red signal', 'Unsafe speed', 'Unsafe turn or lane change', 'Violation of right of way left turn']], ['type_of_co', ['Broadside', 'Head-On', 'Hit Object', 'Other', 'Rear End', 'Sideswipe']], ['lighting', ['Dark - Street Lights', 'Daylight', 'Dusk - Dawn', 'Other']], ['road_surfa', ['Dry', 'Other', 'Wet']], ['party1_mov', ['Changing Lanes', 'Making Left Turn', 'Making Right Turn', 'Making U Turn', 'Other', 'Proceeding Straight']]]"
      ]
     },
     "execution_count": 67,
     "metadata": {},
     "output_type": "execute_result"
    }
   ],
   "source": [
    "field_vals_list"
   ]
  },
  {
   "cell_type": "code",
   "execution_count": 68,
   "metadata": {},
   "outputs": [
    {
     "name": "stdout",
     "output_type": "stream",
     "text": [
      "653 selected.\n",
      "pcf_viol_c_Following_too_close created.\n",
      "3635 selected.\n",
      "pcf_viol_c_Other created.\n",
      "1117 selected.\n",
      "pcf_viol_c_Red_signal created.\n",
      "2072 selected.\n",
      "pcf_viol_c_Unsafe_speed created.\n",
      "881 selected.\n",
      "pcf_viol_c_Unsafe_turn_or_lane created.\n",
      "725 selected.\n",
      "pcf_viol_c_Violation_of_right_ created.\n",
      "3406 selected.\n",
      "type_of_co_Broadside created.\n",
      "713 selected.\n",
      "type_of_co_Head_On created.\n",
      "457 selected.\n",
      "type_of_co_Hit_Object created.\n",
      "878 selected.\n",
      "type_of_co_Other created.\n",
      "2106 selected.\n",
      "type_of_co_Rear_End created.\n",
      "1523 selected.\n",
      "type_of_co_Sideswipe created.\n",
      "2802 selected.\n",
      "lighting_Dark___Street_Lights created.\n",
      "5777 selected.\n",
      "lighting_Daylight created.\n",
      "329 selected.\n",
      "lighting_Dusk___Dawn created.\n",
      "175 selected.\n",
      "lighting_Other created.\n",
      "7989 selected.\n",
      "road_surfa_Dry created.\n",
      "217 selected.\n",
      "road_surfa_Other created.\n",
      "877 selected.\n",
      "road_surfa_Wet created.\n",
      "426 selected.\n",
      "party1_mov_Changing_Lanes created.\n",
      "1360 selected.\n",
      "party1_mov_Making_Left_Turn created.\n",
      "368 selected.\n",
      "party1_mov_Making_Right_Turn created.\n",
      "230 selected.\n",
      "party1_mov_Making_U_Turn created.\n",
      "1514 selected.\n",
      "party1_mov_Other created.\n",
      "5185 selected.\n",
      "party1_mov_Proceeding_Straight created.\n"
     ]
    }
   ],
   "source": [
    "for arr in field_vals_list:\n",
    "    nm = arr[0]\n",
    "    for level in arr[1]:\n",
    "        fname = f\"n_{level}\".replace(\" \", \"_\")\n",
    "        fname = fname.replace(\"-\", \"_\")\n",
    "        fname = fname[0:30]\n",
    "        outnm = f\"{nm}_{level}\".replace(\" \", \"_\")\n",
    "        outnm = outnm.replace(\"-\", \"_\")\n",
    "        outnm = outnm[0:30]\n",
    "        sql = f'\"{nm}\" = \\'{level}\\''\n",
    "        # print(sql)\n",
    "        SelectAggregateWrite(collisions, intersections, sql, fname, outnm)"
   ]
  },
  {
   "cell_type": "markdown",
   "metadata": {},
   "source": [
    "# Merge Together (bind rows)"
   ]
  },
  {
   "cell_type": "code",
   "execution_count": 69,
   "metadata": {},
   "outputs": [
    {
     "data": {
      "text/html": [
       "<h2>Output</h2>C:\\Users\\918831919\\Documents\\ArcGIS\\Projects\\ExpectedAccidents\\merged_collisions.shp<h2>Messages</h2>Start Time: Sunday, May 15, 2022 2:12:03 PM<br/>Succeeded at Sunday, May 15, 2022 2:13:03 PM (Elapsed Time: 59.51 seconds)<br/><style>.rendered_html td, .rendered_html th {text-align: left;}.rendered_html tbody {border: 1px solid black;}</style>"
      ],
      "text/plain": [
       "<Result 'C:\\\\Users\\\\918831919\\\\Documents\\\\ArcGIS\\\\Projects\\\\ExpectedAccidents\\\\merged_collisions.shp'>"
      ]
     },
     "execution_count": 69,
     "metadata": {},
     "output_type": "execute_result"
    }
   ],
   "source": [
    "to_merge = []\n",
    "for arr in field_vals_list:\n",
    "    nm = arr[0]\n",
    "    for level in arr[1]:\n",
    "        outnm = f\"{nm}_{level}\".replace(\" \", \"_\")\n",
    "        outnm = outnm.replace(\"-\", \"_\")\n",
    "        outnm = outnm[0:30]\n",
    "        to_merge.append(outnm)\n",
    "to_merge.append('SFIntersections_Voronoi_Collisions')\n",
    "DM.Merge(to_merge, 'merged_collisions.shp')"
   ]
  }
 ],
 "metadata": {
  "kernelspec": {
   "display_name": "ArcGISPro",
   "language": "Python",
   "name": "python3"
  },
  "language_info": {
   "file_extension": ".py",
   "name": "python",
   "version": "3"
  }
 },
 "nbformat": 4,
 "nbformat_minor": 2
}
