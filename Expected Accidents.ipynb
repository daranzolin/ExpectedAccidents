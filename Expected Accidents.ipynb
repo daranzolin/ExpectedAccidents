{
 "cells": [
  {
   "cell_type": "code",
   "execution_count": 1,
   "metadata": {},
   "outputs": [],
   "source": [
    "import arcpy\n",
    "import os\n",
    "from arcpy import analysis as AN\n",
    "from arcpy import management as DM\n",
    "from arcpy.sa import *\n",
    "env = arcpy.env\n",
    "env.overwriteOutput = True\n",
    "env.workspace = os.getcwd() + \"\\\\\" \"ExpectedAccidents.gdb\""
   ]
  },
  {
   "cell_type": "code",
   "execution_count": 2,
   "metadata": {
    "scrolled": true
   },
   "outputs": [
    {
     "name": "stdout",
     "output_type": "stream",
     "text": [
      "Feature classes: ['transbase_collisions_XY', 'SFIntersections_Voronoi_Collisions', 'SFIntersections_Voronoi_Collisions_Join', 'SFIntersections_Voronoi_Clipped', 'broadsides_collisions', 'headons_collisions', 'merged', 'broadsides', 'headons', 'rearends', 'darkness', 'wetness', 'proceeding_straight', 'making_left_turn', 'unsafe_speed', 'unsafe_turn']\n",
      "Tables: []\n",
      "Rasters: ['Idw_Intersec1', 'ebk_raster']\n"
     ]
    }
   ],
   "source": [
    "print(f\"Feature classes: {arcpy.ListFeatureClasses()}\")\n",
    "print(f\"Tables: {arcpy.ListTables()}\")\n",
    "print(f\"Rasters: {arcpy.ListRasters()}\")"
   ]
  },
  {
   "cell_type": "markdown",
   "metadata": {},
   "source": [
    "# Isolate San Francisco polygon"
   ]
  },
  {
   "cell_type": "code",
   "execution_count": null,
   "metadata": {},
   "outputs": [],
   "source": [
    "albers3310 = arcpy.SpatialReference(3310)\n",
    "DM.Project('BayAreaCounties.shp', 'BayAreaCounties3310.shp', albers3310)\n",
    "sf_county = DM.SelectLayerByAttribute('BayAreaCounties3310.shp', \"NEW_SELECTION\", '\"county\" = \\'San Francisco\\'')\n",
    "DM.CopyFeatures(sf_county, \"sf_county.shp\")\n",
    "DM.MultipartToSinglepart(\"sf_county.shp\", \"sf_county_polygons.shp\")\n",
    "\n",
    "arcpy.AddField_management(\"sf_county_polygons.shp\", \"Shape_area\", \"DOUBLE\")\n",
    "with arcpy.da.UpdateCursor(\"sf_county_polygons.shp\", [\"SHAPE@AREA\",\"Shape_area\"]) as cursor:\n",
    "    for row in cursor:\n",
    "        row[1] = row[0]\n",
    "        cursor.updateRow(row)\n",
    "del row, cursor \n",
    "\n",
    "areas = []\n",
    "with arcpy.da.SearchCursor(\"sf_county_polygons.shp\", [\"Shape_area\"]) as cursor:\n",
    "    for row in cursor:\n",
    "        areas.append(row[0])\n",
    "del row, cursor \n",
    "sql = f'\"Shape_area\" = {max(areas)}'\n",
    "sf_city = DM.SelectLayerByAttribute(\"sf_county_polygons.shp\", \"NEW_SELECTION\", sql)\n",
    "DM.CopyFeatures(sf_city, \"sf_city_boundary.shp\")\n",
    "env.extent = arcpy.Describe(\"sf_city_boundary.shp\").extent"
   ]
  },
  {
   "cell_type": "markdown",
   "metadata": {},
   "source": [
    "# Convert collisions to Points, Project to 3310"
   ]
  },
  {
   "cell_type": "code",
   "execution_count": 32,
   "metadata": {
    "collapsed": true
   },
   "outputs": [
    {
     "data": {
      "text/html": [
       "<h2>Output</h2>C:\\Users\\918831919\\Documents\\ArcGIS\\Projects\\ExpectedAccidents\\collisions3310.shp<h2>Messages</h2>Start Time: Thursday, April 21, 2022 12:56:42 PM<br/>Succeeded at Thursday, April 21, 2022 12:56:49 PM (Elapsed Time: 6.85 seconds)<br/><style>.rendered_html td, .rendered_html th {text-align: left;}.rendered_html tbody {border: 1px solid black;}</style>"
      ],
      "text/plain": [
       "<Result 'C:\\\\Users\\\\918831919\\\\Documents\\\\ArcGIS\\\\Projects\\\\ExpectedAccidents\\\\collisions3310.shp'>"
      ]
     },
     "execution_count": 32,
     "metadata": {},
     "output_type": "execute_result"
    }
   ],
   "source": [
    "DM.XYTableToPoint(\"transbase_collisions.csv\", \"collisions\", \"longitude\", \"latitude\")\n",
    "DM.Project(\"collisions\", \"collisions3310.shp\", albers3310)"
   ]
  },
  {
   "cell_type": "markdown",
   "metadata": {},
   "source": [
    "# Create Voronoi Tesselation around Intersections"
   ]
  },
  {
   "cell_type": "code",
   "execution_count": 7,
   "metadata": {
    "collapsed": true
   },
   "outputs": [
    {
     "data": {
      "text/html": [
       "<h2>Output</h2>C:\\Users\\918831919\\Documents\\ArcGIS\\Projects\\ExpectedAccidents\\intersections.shp<h2>Messages</h2>Start Time: Wednesday, April 20, 2022 4:58:26 PM<br/>Reading Features...<br/>Cracking Features...<br/>Assembling Features...<br/>Succeeded at Wednesday, April 20, 2022 4:58:34 PM (Elapsed Time: 8.20 seconds)<br/><style>.rendered_html td, .rendered_html th {text-align: left;}.rendered_html tbody {border: 1px solid black;}</style>"
      ],
      "text/plain": [
       "<Result 'C:\\\\Users\\\\918831919\\\\Documents\\\\ArcGIS\\\\Projects\\\\ExpectedAccidents\\\\intersections.shp'>"
      ]
     },
     "execution_count": 7,
     "metadata": {},
     "output_type": "execute_result"
    }
   ],
   "source": [
    "# DM.UnsplitLine(\"SFSpeedLimits\", \"streets_unsplit\", [\"from_st\", \"to_st\"])\n",
    "# AN.Intersect(\"streets_unsplit\", \"intersections\", output_type = \"POINT\")\n",
    "\n",
    "DM.Project(\"SFIntersections.shp\", \"SFIntersections3310.shp\", albers3310)\n",
    "AN.CreateThiessenPolygons(\"SFIntersections3310\", \"SFIntersections_Voronoi.shp\", \"ALL\")\n",
    "AN.Clip(\"SFIntersections_Voronoi.shp\", \"sf_city_boundary.shp\", \"SFIntersections_Voronoi_Clipped.shp\")"
   ]
  },
  {
   "cell_type": "markdown",
   "metadata": {},
   "source": [
    "# Aggregate Collisions within Voronoi Polygons"
   ]
  },
  {
   "cell_type": "code",
   "execution_count": 39,
   "metadata": {
    "collapsed": true
   },
   "outputs": [
    {
     "data": {
      "text/html": [
       "<h2>Output</h2><table><tr><th>id</th><th>value</th></tr><tr><td>0</td><td>C:\\Users\\918831919\\Documents\\ArcGIS\\Projects\\ExpectedAccidents\\ExpectedAccidents.gdb\\SFIntersections_Voronoi_Collisions</td></tr><tr><td>1</td><td></td></tr></table><h2>Messages</h2>Start Time: Thursday, April 21, 2022 1:11:01 PM<br/>Succeeded at Thursday, April 21, 2022 1:11:10 PM (Elapsed Time: 8.69 seconds)<br/><style>.rendered_html td, .rendered_html th {text-align: left;}.rendered_html tbody {border: 1px solid black;}</style>"
      ],
      "text/plain": [
       "<Result 'C:\\\\Users\\\\918831919\\\\Documents\\\\ArcGIS\\\\Projects\\\\ExpectedAccidents\\\\ExpectedAccidents.gdb\\\\SFIntersections_Voronoi_Collisions'>"
      ]
     },
     "execution_count": 39,
     "metadata": {},
     "output_type": "execute_result"
    }
   ],
   "source": [
    "AN.SummarizeWithin(\"SFIntersections_Voronoi_Clipped.shp\", \"collisions.shp\", \"SFIntersections_Voronoi_Collisions\")\n",
    "DM.AlterField(\"SFIntersections_Voronoi_Collisions\", \"Point_Count\", \"Total_Collisions\", \"Total_Collisions\")\n",
    "DM.FeatureToPoint(\"SFIntersections_Voronoi_Collisions\", \"Intersection_Points_With_Counts.shp\", \"CENTROID\")\n",
    "AN.SummarizeWithin(\"SFIntersections_Voronoi_Clipped.shp\", \"collisions.shp\", \"SFIntersections_Voronoi_Collisions\")"
   ]
  },
  {
   "cell_type": "markdown",
   "metadata": {},
   "source": [
    "# Select, Aggregate, and Write Various Collision Types"
   ]
  },
  {
   "cell_type": "code",
   "execution_count": 62,
   "metadata": {},
   "outputs": [],
   "source": [
    "def SelectAggregateWrite(selectionFeature, polygonFeature, sel, fieldName, outPolygon):\n",
    "    try:\n",
    "        selLayer = DM.SelectLayerByAttribute(selectionFeature, \"NEW_SELECTION\", sel)\n",
    "        nRecords = DM.GetCount(selLayer)\n",
    "    except arcpy.ExecuteError as e:\n",
    "        print(e)\n",
    "    print(f\"{nRecords[0]} selected.\")\n",
    "    tmpLyr = 'in_memory\\\\tmp.lyr'\n",
    "    DM.MakeFeatureLayer(selLayer, tmpLyr) \n",
    "    DM.SelectLayerByAttribute(selectionFeature, \"CLEAR_SELECTION\")\n",
    "    AN.SummarizeWithin(polygonFeature, tmpLyr, outPolygon)\n",
    "    DM.AlterField(outPolygon, 'Point_Count', fieldName, fieldName)\n",
    "    print(f\"{outPolygon} created.\")\n",
    "    \n",
    "\n",
    "args_list = [\n",
    "    ['n_broadsides', '\"type_of_co\" = \\'Broadside\\'', 'broadsides'],\n",
    "    ['n_headons', '\"type_of_co\" = \\'Head-On\\'', 'headons'],\n",
    "    ['n_readends', '\"type_of_co\" = \\'Rear End\\'', 'rearends'],\n",
    "    ['n_dark', '\"lighting\" = \\'Dark - Street Lights\\'', 'darkness'],\n",
    "    ['n_wet', '\"road_surfa\" = \\'Wet\\'', 'wetness'],\n",
    "    ['n_proceeding_straight', '\"party1_mov\" = \\'Proceeding Straight\\'', 'proceeding_straight'],\n",
    "    ['n_making_left_turn', '\"party1_mov\" = \\'Making Left Turn\\'', 'making_left_turn'],\n",
    "    ['n_unsafe_speed', '\"pcf_viol_c\" = \\'Unsafe speed for prevailing conditions\\'', 'unsafe_speed'],\n",
    "    ['n_unsafe_turn_or_lane_change', '\"pcf_viol_c\" = \\'Unsafe turn or lane change prohibited\\'', 'unsafe_turn']\n",
    "]\n",
    "\n",
    "collisions = 'collisions3310.shp'\n",
    "intersections = 'SFIntersections_Voronoi_Clipped.shp'\n",
    "for args in args_list:\n",
    "    SelectAggregateWrite(collisions, intersections, args[1], args[0], args[2])"
   ]
  },
  {
   "cell_type": "markdown",
   "metadata": {},
   "source": [
    "# Merge Together (bind rows)"
   ]
  },
  {
   "cell_type": "code",
   "execution_count": 83,
   "metadata": {
    "collapsed": true
   },
   "outputs": [
    {
     "data": {
      "text/html": [
       "<h2>Output</h2>C:\\Users\\918831919\\Documents\\ArcGIS\\Projects\\ExpectedAccidents\\merged_collisions.shp<h2>Messages</h2>Start Time: Sunday, May 8, 2022 4:41:57 PM<br/>Succeeded at Sunday, May 8, 2022 4:42:18 PM (Elapsed Time: 21.09 seconds)<br/><style>.rendered_html td, .rendered_html th {text-align: left;}.rendered_html tbody {border: 1px solid black;}</style>"
      ],
      "text/plain": [
       "<Result 'C:\\\\Users\\\\918831919\\\\Documents\\\\ArcGIS\\\\Projects\\\\ExpectedAccidents\\\\merged_collisions.shp'>"
      ]
     },
     "execution_count": 83,
     "metadata": {},
     "output_type": "execute_result"
    }
   ],
   "source": [
    "to_merge = [x[2] for x in args_list]\n",
    "to_merge.append('SFIntersections_Voronoi_Collisions')\n",
    "DM.Merge(to_merge, 'merged_collisions.shp')"
   ]
  }
 ],
 "metadata": {
  "kernelspec": {
   "display_name": "ArcGISPro",
   "language": "Python",
   "name": "python3"
  },
  "language_info": {
   "file_extension": ".py",
   "name": "python",
   "version": "3"
  }
 },
 "nbformat": 4,
 "nbformat_minor": 2
}
